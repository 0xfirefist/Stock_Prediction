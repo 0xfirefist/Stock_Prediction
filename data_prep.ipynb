{
 "cells": [
  {
   "cell_type": "code",
   "execution_count": 9,
   "metadata": {},
   "outputs": [],
   "source": [
    "import pandas as pd\n",
    "sent = pd.read_csv(\"dataset/sentiment_result.csv\")\n",
    "nifty = pd.read_csv(\"dataset/nse_nifty50.csv\")\n",
    "sensex = pd.read_csv(\"dataset/bse_corrected.csv\")"
   ]
  },
  {
   "cell_type": "code",
   "execution_count": 10,
   "metadata": {},
   "outputs": [
    {
     "output_type": "execute_result",
     "data": {
      "text/plain": "         Date  compound    neg    neu    pos     Open     High      Low  \\\n0  2007-01-02    0.9714  0.035  0.896  0.069  3966.25  4016.65  3964.95   \n1  2007-01-03   -0.3111  0.054  0.886  0.060  4007.70  4029.80  3985.00   \n2  2007-01-04    0.1280  0.070  0.853  0.077  4027.30  4041.00  3979.80   \n3  2007-01-05   -0.9110  0.054  0.902  0.044  3990.15  4011.45  3969.65   \n4  2007-01-08    0.9815  0.038  0.886  0.076  3983.30  3987.45  3913.00   \n\n     Close    Volume  \n0  4007.40  40789960  \n1  4024.05  63826475  \n2  3988.80  67096186  \n3  3983.40  69146575  \n4  3933.40  63615668  ",
      "text/html": "<div>\n<style scoped>\n    .dataframe tbody tr th:only-of-type {\n        vertical-align: middle;\n    }\n\n    .dataframe tbody tr th {\n        vertical-align: top;\n    }\n\n    .dataframe thead th {\n        text-align: right;\n    }\n</style>\n<table border=\"1\" class=\"dataframe\">\n  <thead>\n    <tr style=\"text-align: right;\">\n      <th></th>\n      <th>Date</th>\n      <th>compound</th>\n      <th>neg</th>\n      <th>neu</th>\n      <th>pos</th>\n      <th>Open</th>\n      <th>High</th>\n      <th>Low</th>\n      <th>Close</th>\n      <th>Volume</th>\n    </tr>\n  </thead>\n  <tbody>\n    <tr>\n      <th>0</th>\n      <td>2007-01-02</td>\n      <td>0.9714</td>\n      <td>0.035</td>\n      <td>0.896</td>\n      <td>0.069</td>\n      <td>3966.25</td>\n      <td>4016.65</td>\n      <td>3964.95</td>\n      <td>4007.40</td>\n      <td>40789960</td>\n    </tr>\n    <tr>\n      <th>1</th>\n      <td>2007-01-03</td>\n      <td>-0.3111</td>\n      <td>0.054</td>\n      <td>0.886</td>\n      <td>0.060</td>\n      <td>4007.70</td>\n      <td>4029.80</td>\n      <td>3985.00</td>\n      <td>4024.05</td>\n      <td>63826475</td>\n    </tr>\n    <tr>\n      <th>2</th>\n      <td>2007-01-04</td>\n      <td>0.1280</td>\n      <td>0.070</td>\n      <td>0.853</td>\n      <td>0.077</td>\n      <td>4027.30</td>\n      <td>4041.00</td>\n      <td>3979.80</td>\n      <td>3988.80</td>\n      <td>67096186</td>\n    </tr>\n    <tr>\n      <th>3</th>\n      <td>2007-01-05</td>\n      <td>-0.9110</td>\n      <td>0.054</td>\n      <td>0.902</td>\n      <td>0.044</td>\n      <td>3990.15</td>\n      <td>4011.45</td>\n      <td>3969.65</td>\n      <td>3983.40</td>\n      <td>69146575</td>\n    </tr>\n    <tr>\n      <th>4</th>\n      <td>2007-01-08</td>\n      <td>0.9815</td>\n      <td>0.038</td>\n      <td>0.886</td>\n      <td>0.076</td>\n      <td>3983.30</td>\n      <td>3987.45</td>\n      <td>3913.00</td>\n      <td>3933.40</td>\n      <td>63615668</td>\n    </tr>\n  </tbody>\n</table>\n</div>"
     },
     "metadata": {},
     "execution_count": 10
    }
   ],
   "source": [
    "nse_combine = pd.merge(sent, nifty[['Date','Open','High','Low','Close','Volume']], on='Date')\n",
    "nse_combine.head()"
   ]
  },
  {
   "cell_type": "code",
   "execution_count": 15,
   "metadata": {},
   "outputs": [],
   "source": [
    "nse_combine.to_csv('dataset/nifty_complete.csv')"
   ]
  }
 ],
 "metadata": {
  "language_info": {
   "codemirror_mode": {
    "name": "ipython",
    "version": 3
   },
   "file_extension": ".py",
   "mimetype": "text/x-python",
   "name": "python",
   "nbconvert_exporter": "python",
   "pygments_lexer": "ipython3",
   "version": "3.8.2-final"
  },
  "orig_nbformat": 2,
  "kernelspec": {
   "name": "python38264bitbe95afc578394c55b6152fb61ed51385",
   "display_name": "Python 3.8.2 64-bit"
  }
 },
 "nbformat": 4,
 "nbformat_minor": 2
}