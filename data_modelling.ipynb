{
  "nbformat": 4,
  "nbformat_minor": 0,
  "metadata": {
    "colab": {
      "name": "data-modelling.ipynb",
      "provenance": []
    },
    "kernelspec": {
      "name": "python3",
      "display_name": "Python 3"
    }
  },
  "cells": [
    {
      "cell_type": "code",
      "metadata": {
        "id": "Quwxl38k7UvJ",
        "colab_type": "code",
        "colab": {
          "base_uri": "https://localhost:8080/",
          "height": 34
        },
        "outputId": "1f73a7a0-76be-4ca3-cf40-372fe0f039d5"
      },
      "source": [
        "print('STOCK PREDICTION USING RNN LSTM')\n",
        "import numpy as np\n",
        "import pandas as pd\n",
        "from sklearn import preprocessing\n",
        "\n",
        "from keras.models import Sequential\n",
        "from keras.layers.core import Dense, Activation\n",
        "from keras.layers.recurrent import LSTM\n",
        "from keras.layers import  Dropout\n",
        "from keras.models import model_from_json\n",
        "from keras.models import load_model\n",
        "from keras import regularizers\n",
        "\n",
        "import matplotlib.pyplot as plt\n",
        "import matplotlib.ticker as mtick\n",
        "fmt = '$%.0f'\n",
        "tick = mtick.FormatStrFormatter(fmt)\n",
        "\n",
        "%matplotlib inline\n"
      ],
      "execution_count": 23,
      "outputs": [
        {
          "output_type": "stream",
          "text": [
            "STOCK PREDICTION USING RNN LSTM\n"
          ],
          "name": "stdout"
        }
      ]
    },
    {
      "cell_type": "code",
      "metadata": {
        "id": "W_RVPs_b80E3",
        "colab_type": "code",
        "colab": {
          "base_uri": "https://localhost:8080/",
          "height": 282
        },
        "outputId": "36873ee7-e763-45c0-8d81-aa4ae8c0ca00"
      },
      "source": [
        "data_csv = pd.read_csv('/home/dataset/nifty_complete.csv')\n",
        "\n",
        "data_csv[['Close']].plot()\n",
        "plt.show()\n",
        "plt.clf()"
      ],
      "execution_count": 25,
      "outputs": [
        {
          "output_type": "display_data",
          "data": {
            "image/png": "[encoded data removed]",
            "text/plain": [
              "<Figure size 432x288 with 1 Axes>"
            ]
          },
          "metadata": {
            "tags": [],
            "needs_background": "light"
          }
        },
        {
          "output_type": "display_data",
          "data": {
            "text/plain": [
              "<Figure size 432x288 with 0 Axes>"
            ]
          },
          "metadata": {
            "tags": []
          }
        }
      ]
    },
    {
      "cell_type": "code",
      "metadata": {
        "id": "ayds36m09SXV",
        "colab_type": "code",
        "colab": {
          "base_uri": "https://localhost:8080/",
          "height": 34
        },
        "outputId": "a61fe060-fed0-4c6b-81a9-c8c796b3cfab"
      },
      "source": [
        "percentage_of_data = 1.0\n",
        "data_to_use = int(percentage_of_data*(len(data_csv)-1))\n",
        "\n",
        "# 80% of data will be of training\n",
        "train_end = int(data_to_use*0.9)\n",
        "\n",
        "total_data = len(data_csv)\n",
        "print(\"total_data:\", total_data)"
      ],
      "execution_count": 26,
      "outputs": [
        {
          "output_type": "stream",
          "text": [
            "total_data: 3216\n"
          ],
          "name": "stdout"
        }
      ]
    },
    {
      "cell_type": "code",
      "metadata": {
        "id": "deyDxjuo9WDa",
        "colab_type": "code",
        "colab": {
          "base_uri": "https://localhost:8080/",
          "height": 139
        },
        "outputId": "0a33d7f8-0fd7-4b75-c490-16070613f156"
      },
      "source": [
        "start = total_data - data_to_use\n",
        "\n",
        "# Currently doing prediction only for 1 step ahead\n",
        "steps_to_predict = 1\n",
        "\n",
        "# order - Date 1 \tcompound 2\tneg 3\tneu 4\tpos 5\tOpen 6 \tHigh 7 \tLow 8\tClose 9\tVolume 10\n",
        "# req order - close, compund, neg, neu, pos, open, high, low, volume\n",
        "# Order -> 8,1,2,3,4,5,6,7,9\n",
        "yt = data_csv.iloc[start:total_data,9] #close\n",
        "yt1 = data_csv.iloc[start:total_data,2] #compund\n",
        "yt2 = data_csv.iloc[start:total_data,3] #neg\n",
        "yt3 = data_csv.iloc[start:total_data,4] #neu\n",
        "yt4 = data_csv.iloc[start:total_data,5] #pos\n",
        "yt5 = data_csv.iloc[start:total_data,6] #open\n",
        "yt6 = data_csv.iloc[start:total_data,7] #high\n",
        "yt7 = data_csv.iloc[start:total_data,8] #low\n",
        "vt = data_csv.iloc[start:total_data,10] #volume\n",
        "\n",
        "print(\"yt head (close) :\")\n",
        "print(yt.head())"
      ],
      "execution_count": 27,
      "outputs": [
        {
          "output_type": "stream",
          "text": [
            "yt head (close) :\n",
            "1    4024.05\n",
            "2    3988.80\n",
            "3    3983.40\n",
            "4    3933.40\n",
            "5    3911.40\n",
            "Name: Close, dtype: float64\n"
          ],
          "name": "stdout"
        }
      ]
    },
    {
      "cell_type": "code",
      "metadata": {
        "id": "b_8qcZRy9bP9",
        "colab_type": "code",
        "colab": {
          "base_uri": "https://localhost:8080/",
          "height": 208
        },
        "outputId": "2d4e78ae-fd77-4bcb-d271-831b29a6c782"
      },
      "source": [
        "#shift next day close and next day compund\n",
        "yt_ = yt.shift(-1) #shifted close\n",
        "yt1_ = yt1.shift(-1) #shifted compund\n",
        "\n",
        "#taking only: close, next_close, compund, next_compund, volume, open, high, low\n",
        "data = pd.concat([yt, yt_, yt1, yt1_, vt, yt5, yt6, yt7], axis=1)\n",
        "data.columns = ['yt', 'yt_', 'yt1', 'yt1_','vt', 'yt5', 'yt6', 'yt7']\n",
        "\n",
        "data = data.dropna()\n",
        "     \n",
        "print(data[:10])"
      ],
      "execution_count": 28,
      "outputs": [
        {
          "output_type": "stream",
          "text": [
            "         yt      yt_     yt1    yt1_        vt      yt5      yt6      yt7\n",
            "1   4024.05  3988.80 -0.3111  0.1280  63826475  4007.70  4029.80  3985.00\n",
            "2   3988.80  3983.40  0.1280 -0.9110  67096186  4027.30  4041.00  3979.80\n",
            "3   3983.40  3933.40 -0.9110  0.9815  69146575  3990.15  4011.45  3969.65\n",
            "4   3933.40  3911.40  0.9815  0.9735  63615668  3983.30  3987.45  3913.00\n",
            "5   3911.40  3850.30  0.9735  0.9962  65321592  3933.30  3963.75  3890.75\n",
            "6   3850.30  3942.25  0.9962  0.9644  68470689  3910.95  3911.95  3841.70\n",
            "7   3942.25  4052.45  0.9644  0.9549  83152375  3852.15  3953.10  3833.60\n",
            "8   4052.45  4078.40  0.9549  0.9761  81362992  3944.55  4059.15  3944.55\n",
            "9   4078.40  4080.50  0.9761  0.9955  81723925  4052.85  4099.65  4052.40\n",
            "10  4080.50  4076.45  0.9955  0.9931  60251260  4090.70  4107.45  4067.90\n"
          ],
          "name": "stdout"
        }
      ]
    },
    {
      "cell_type": "code",
      "metadata": {
        "id": "wVvvdYDd9g1V",
        "colab_type": "code",
        "colab": {}
      },
      "source": [
        "# target variable - closed price\n",
        "# after shifting\n",
        "y = data['yt_'] #next_close\n",
        "\n",
        "# close, compund, next_compund, volume, open, high, low   \n",
        "cols = ['yt', 'yt1', 'yt1_', 'vt', 'yt5', 'yt6', 'yt7']\n",
        "x = data[cols]"
      ],
      "execution_count": 29,
      "outputs": []
    },
    {
      "cell_type": "code",
      "metadata": {
        "id": "HV5ZcZJ1-KkD",
        "colab_type": "code",
        "colab": {}
      },
      "source": [
        "scaler_x = preprocessing.MinMaxScaler (feature_range=(-1, 1))\n",
        "x = np.array(x).reshape((len(x) ,len(cols)))\n",
        "x = scaler_x.fit_transform(x)\n",
        "\n",
        "scaler_y = preprocessing.MinMaxScaler (feature_range=(-1, 1))\n",
        "y = np.array (y).reshape ((len( y), 1))\n",
        "y = scaler_y.fit_transform (y)"
      ],
      "execution_count": 30,
      "outputs": []
    },
    {
      "cell_type": "code",
      "metadata": {
        "id": "EjiGiOGJ-2NY",
        "colab_type": "code",
        "colab": {}
      },
      "source": [
        "X_train = x[0 : train_end,]\n",
        "X_test = x[train_end+1 : len(x),]    \n",
        "y_train = y[0 : train_end] \n",
        "y_test = y[train_end+1 : len(y)]  \n",
        "\n",
        "X_train = X_train.reshape (X_train. shape + (1,)) \n",
        "X_test = X_test.reshape(X_test.shape + (1,))"
      ],
      "execution_count": 31,
      "outputs": []
    },
    {
      "cell_type": "code",
      "metadata": {
        "id": "_2RvFszA_Fft",
        "colab_type": "code",
        "colab": {
          "base_uri": "https://localhost:8080/",
          "height": 1000
        },
        "outputId": "5b274fbb-2b69-4533-9c4b-76d864d92fee"
      },
      "source": [
        "batch_size = 32\n",
        "nb_epoch = 100\n",
        "neurons = 25\n",
        "dropout = 0.1\n",
        "\n",
        "seed = 2016\n",
        "np.random.seed(seed)\n",
        "\n",
        "model = Sequential ()\n",
        "model.add(LSTM(neurons, return_sequences=True, activation='tanh', inner_activation='hard_sigmoid', input_shape=(len(cols), 1)))\n",
        "model.add(Dropout(dropout))\n",
        "model.add(LSTM(neurons, return_sequences=True,  activation='tanh'))\n",
        "model.add(Dropout(dropout))\n",
        "model.add(LSTM(neurons, activation='tanh'))\n",
        "model.add(Dropout(dropout))\n",
        "\n",
        "model.add(Dense(activity_regularizer=regularizers.l1(0.00001), output_dim=1, activation='linear'))\n",
        "model.add(Activation('tanh'))\n",
        "\n",
        "print(model.summary())\n",
        "\n",
        "model.compile(loss='mean_squared_error' , optimizer='RMSprop')\n",
        "model.fit(X_train, y_train, batch_size=batch_size, nb_epoch=nb_epoch, verbose=1, validation_split=0.2)"
      ],
      "execution_count": 32,
      "outputs": [
        {
          "output_type": "stream",
          "text": [
            "/usr/local/lib/python3.6/dist-packages/ipykernel_launcher.py:10: UserWarning: Update your `LSTM` call to the Keras 2 API: `LSTM(25, return_sequences=True, activation=\"tanh\", input_shape=(7, 1), recurrent_activation=\"hard_sigmoid\")`\n",
            "  # Remove the CWD from sys.path while we load stuff.\n",
            "/usr/local/lib/python3.6/dist-packages/ipykernel_launcher.py:17: UserWarning: Update your `Dense` call to the Keras 2 API: `Dense(activity_regularizer=<keras.reg..., activation=\"linear\", units=1)`\n",
            "/usr/local/lib/python3.6/dist-packages/ipykernel_launcher.py:23: UserWarning: The `nb_epoch` argument in `fit` has been renamed `epochs`.\n"
          ],
          "name": "stderr"
        },
        {
          "output_type": "stream",
          "text": [
            "Model: \"sequential_2\"\n",
            "_________________________________________________________________\n",
            "Layer (type)                 Output Shape              Param #   \n",
            "=================================================================\n",
            "lstm_4 (LSTM)                (None, 7, 25)             2700      \n",
            "_________________________________________________________________\n",
            "dropout_4 (Dropout)          (None, 7, 25)             0         \n",
            "_________________________________________________________________\n",
            "lstm_5 (LSTM)                (None, 7, 25)             5100      \n",
            "_________________________________________________________________\n",
            "dropout_5 (Dropout)          (None, 7, 25)             0         \n",
            "_________________________________________________________________\n",
            "lstm_6 (LSTM)                (None, 25)                5100      \n",
            "_________________________________________________________________\n",
            "dropout_6 (Dropout)          (None, 25)                0         \n",
            "_________________________________________________________________\n",
            "dense_2 (Dense)              (None, 1)                 26        \n",
            "_________________________________________________________________\n",
            "activation_2 (Activation)    (None, 1)                 0         \n",
            "=================================================================\n",
            "Total params: 12,926\n",
            "Trainable params: 12,926\n",
            "Non-trainable params: 0\n",
            "_________________________________________________________________\n",
            "None\n",
            "Train on 2314 samples, validate on 579 samples\n",
            "Epoch 1/100\n",
            "2314/2314 [==============================] - 3s 1ms/step - loss: 0.0534 - val_loss: 0.1042\n",
            "Epoch 2/100\n",
            "2314/2314 [==============================] - 1s 472us/step - loss: 0.0324 - val_loss: 0.0366\n",
            "Epoch 3/100\n",
            "2314/2314 [==============================] - 1s 470us/step - loss: 0.0285 - val_loss: 0.0433\n",
            "Epoch 4/100\n",
            "2314/2314 [==============================] - 1s 466us/step - loss: 0.0264 - val_loss: 0.0404\n",
            "Epoch 5/100\n",
            "2314/2314 [==============================] - 1s 475us/step - loss: 0.0192 - val_loss: 0.0221\n",
            "Epoch 6/100\n",
            "2314/2314 [==============================] - 1s 452us/step - loss: 0.0085 - val_loss: 0.0210\n",
            "Epoch 7/100\n",
            "2314/2314 [==============================] - 1s 459us/step - loss: 0.0048 - val_loss: 0.0251\n",
            "Epoch 8/100\n",
            "2314/2314 [==============================] - 1s 454us/step - loss: 0.0042 - val_loss: 0.0182\n",
            "Epoch 9/100\n",
            "2314/2314 [==============================] - 1s 471us/step - loss: 0.0036 - val_loss: 0.0146\n",
            "Epoch 10/100\n",
            "2314/2314 [==============================] - 1s 461us/step - loss: 0.0032 - val_loss: 0.0146\n",
            "Epoch 11/100\n",
            "2314/2314 [==============================] - 1s 478us/step - loss: 0.0030 - val_loss: 0.0126\n",
            "Epoch 12/100\n",
            "2314/2314 [==============================] - 1s 474us/step - loss: 0.0027 - val_loss: 0.0133\n",
            "Epoch 13/100\n",
            "2314/2314 [==============================] - 1s 473us/step - loss: 0.0026 - val_loss: 0.0129\n",
            "Epoch 14/100\n",
            "2314/2314 [==============================] - 1s 481us/step - loss: 0.0025 - val_loss: 0.0088\n",
            "Epoch 15/100\n",
            "2314/2314 [==============================] - 1s 479us/step - loss: 0.0024 - val_loss: 0.0173\n",
            "Epoch 16/100\n",
            "2314/2314 [==============================] - 1s 464us/step - loss: 0.0024 - val_loss: 0.0154\n",
            "Epoch 17/100\n",
            "2314/2314 [==============================] - 1s 478us/step - loss: 0.0021 - val_loss: 0.0200\n",
            "Epoch 18/100\n",
            "2314/2314 [==============================] - 1s 467us/step - loss: 0.0021 - val_loss: 0.0120\n",
            "Epoch 19/100\n",
            "2314/2314 [==============================] - 1s 475us/step - loss: 0.0021 - val_loss: 0.0080\n",
            "Epoch 20/100\n",
            "2314/2314 [==============================] - 1s 468us/step - loss: 0.0019 - val_loss: 0.0078\n",
            "Epoch 21/100\n",
            "2314/2314 [==============================] - 1s 466us/step - loss: 0.0020 - val_loss: 0.0079\n",
            "Epoch 22/100\n",
            "2314/2314 [==============================] - 1s 468us/step - loss: 0.0019 - val_loss: 0.0061\n",
            "Epoch 23/100\n",
            "2314/2314 [==============================] - 1s 461us/step - loss: 0.0019 - val_loss: 0.0163\n",
            "Epoch 24/100\n",
            "2314/2314 [==============================] - 1s 485us/step - loss: 0.0020 - val_loss: 0.0079\n",
            "Epoch 25/100\n",
            "2314/2314 [==============================] - 1s 480us/step - loss: 0.0018 - val_loss: 0.0147\n",
            "Epoch 26/100\n",
            "2314/2314 [==============================] - 1s 465us/step - loss: 0.0018 - val_loss: 0.0182\n",
            "Epoch 27/100\n",
            "2314/2314 [==============================] - 1s 476us/step - loss: 0.0019 - val_loss: 0.0079\n",
            "Epoch 28/100\n",
            "2314/2314 [==============================] - 1s 469us/step - loss: 0.0016 - val_loss: 0.0094\n",
            "Epoch 29/100\n",
            "2314/2314 [==============================] - 1s 480us/step - loss: 0.0016 - val_loss: 0.0096\n",
            "Epoch 30/100\n",
            "2314/2314 [==============================] - 1s 495us/step - loss: 0.0017 - val_loss: 0.0092\n",
            "Epoch 31/100\n",
            "2314/2314 [==============================] - 1s 490us/step - loss: 0.0017 - val_loss: 0.0108\n",
            "Epoch 32/100\n",
            "2314/2314 [==============================] - 1s 479us/step - loss: 0.0015 - val_loss: 0.0102\n",
            "Epoch 33/100\n",
            "2314/2314 [==============================] - 1s 498us/step - loss: 0.0016 - val_loss: 0.0142\n",
            "Epoch 34/100\n",
            "2314/2314 [==============================] - 1s 504us/step - loss: 0.0016 - val_loss: 0.0039\n",
            "Epoch 35/100\n",
            "2314/2314 [==============================] - 1s 478us/step - loss: 0.0015 - val_loss: 0.0044\n",
            "Epoch 36/100\n",
            "2314/2314 [==============================] - 1s 465us/step - loss: 0.0015 - val_loss: 0.0037\n",
            "Epoch 37/100\n",
            "2314/2314 [==============================] - 1s 486us/step - loss: 0.0015 - val_loss: 0.0079\n",
            "Epoch 38/100\n",
            "2314/2314 [==============================] - 1s 474us/step - loss: 0.0015 - val_loss: 0.0104\n",
            "Epoch 39/100\n",
            "2314/2314 [==============================] - 1s 497us/step - loss: 0.0015 - val_loss: 0.0058\n",
            "Epoch 40/100\n",
            "2314/2314 [==============================] - 1s 482us/step - loss: 0.0015 - val_loss: 0.0054\n",
            "Epoch 41/100\n",
            "2314/2314 [==============================] - 1s 488us/step - loss: 0.0015 - val_loss: 0.0036\n",
            "Epoch 42/100\n",
            "2314/2314 [==============================] - 1s 478us/step - loss: 0.0014 - val_loss: 0.0036\n",
            "Epoch 43/100\n",
            "2314/2314 [==============================] - 1s 499us/step - loss: 0.0015 - val_loss: 0.0079\n",
            "Epoch 44/100\n",
            "2314/2314 [==============================] - 1s 481us/step - loss: 0.0014 - val_loss: 0.0056\n",
            "Epoch 45/100\n",
            "2314/2314 [==============================] - 1s 484us/step - loss: 0.0014 - val_loss: 0.0113\n",
            "Epoch 46/100\n",
            "2314/2314 [==============================] - 1s 484us/step - loss: 0.0014 - val_loss: 0.0065\n",
            "Epoch 47/100\n",
            "2314/2314 [==============================] - 1s 475us/step - loss: 0.0014 - val_loss: 0.0042\n",
            "Epoch 48/100\n",
            "2314/2314 [==============================] - 1s 487us/step - loss: 0.0014 - val_loss: 0.0064\n",
            "Epoch 49/100\n",
            "2314/2314 [==============================] - 1s 498us/step - loss: 0.0013 - val_loss: 0.0060\n",
            "Epoch 50/100\n",
            "2314/2314 [==============================] - 1s 508us/step - loss: 0.0014 - val_loss: 0.0175\n",
            "Epoch 51/100\n",
            "2314/2314 [==============================] - 1s 482us/step - loss: 0.0014 - val_loss: 0.0157\n",
            "Epoch 52/100\n",
            "2314/2314 [==============================] - 1s 500us/step - loss: 0.0013 - val_loss: 0.0060\n",
            "Epoch 53/100\n",
            "2314/2314 [==============================] - 1s 468us/step - loss: 0.0013 - val_loss: 0.0114\n",
            "Epoch 54/100\n",
            "2314/2314 [==============================] - 1s 468us/step - loss: 0.0014 - val_loss: 0.0100\n",
            "Epoch 55/100\n",
            "2314/2314 [==============================] - 1s 483us/step - loss: 0.0013 - val_loss: 0.0050\n",
            "Epoch 56/100\n",
            "2314/2314 [==============================] - 1s 480us/step - loss: 0.0013 - val_loss: 0.0052\n",
            "Epoch 57/100\n",
            "2314/2314 [==============================] - 1s 503us/step - loss: 0.0014 - val_loss: 0.0051\n",
            "Epoch 58/100\n",
            "2314/2314 [==============================] - 1s 479us/step - loss: 0.0013 - val_loss: 0.0123\n",
            "Epoch 59/100\n",
            "2314/2314 [==============================] - 1s 478us/step - loss: 0.0013 - val_loss: 0.0040\n",
            "Epoch 60/100\n",
            "2314/2314 [==============================] - 1s 477us/step - loss: 0.0013 - val_loss: 0.0131\n",
            "Epoch 61/100\n",
            "2314/2314 [==============================] - 1s 523us/step - loss: 0.0012 - val_loss: 0.0064\n",
            "Epoch 62/100\n",
            "2314/2314 [==============================] - 1s 477us/step - loss: 0.0012 - val_loss: 0.0076\n",
            "Epoch 63/100\n",
            "2314/2314 [==============================] - 1s 483us/step - loss: 0.0013 - val_loss: 0.0070\n",
            "Epoch 64/100\n",
            "2314/2314 [==============================] - 1s 482us/step - loss: 0.0013 - val_loss: 0.0122\n",
            "Epoch 65/100\n",
            "2314/2314 [==============================] - 1s 485us/step - loss: 0.0012 - val_loss: 0.0078\n",
            "Epoch 66/100\n",
            "2314/2314 [==============================] - 1s 480us/step - loss: 0.0013 - val_loss: 0.0042\n",
            "Epoch 67/100\n",
            "2314/2314 [==============================] - 1s 477us/step - loss: 0.0012 - val_loss: 0.0088\n",
            "Epoch 68/100\n",
            "2314/2314 [==============================] - 1s 474us/step - loss: 0.0012 - val_loss: 0.0121\n",
            "Epoch 69/100\n",
            "2314/2314 [==============================] - 1s 468us/step - loss: 0.0013 - val_loss: 0.0105\n",
            "Epoch 70/100\n",
            "2314/2314 [==============================] - 1s 473us/step - loss: 0.0012 - val_loss: 0.0039\n",
            "Epoch 71/100\n",
            "2314/2314 [==============================] - 1s 489us/step - loss: 0.0012 - val_loss: 0.0068\n",
            "Epoch 72/100\n",
            "2314/2314 [==============================] - 1s 482us/step - loss: 0.0012 - val_loss: 0.0057\n",
            "Epoch 73/100\n",
            "2314/2314 [==============================] - 1s 479us/step - loss: 0.0012 - val_loss: 0.0077\n",
            "Epoch 74/100\n",
            "2314/2314 [==============================] - 1s 475us/step - loss: 0.0012 - val_loss: 0.0044\n",
            "Epoch 75/100\n",
            "2314/2314 [==============================] - 1s 467us/step - loss: 0.0012 - val_loss: 0.0087\n",
            "Epoch 76/100\n",
            "2314/2314 [==============================] - 1s 482us/step - loss: 0.0012 - val_loss: 0.0051\n",
            "Epoch 77/100\n",
            "2314/2314 [==============================] - 1s 479us/step - loss: 0.0013 - val_loss: 0.0105\n",
            "Epoch 78/100\n",
            "2314/2314 [==============================] - 1s 483us/step - loss: 0.0012 - val_loss: 0.0123\n",
            "Epoch 79/100\n",
            "2314/2314 [==============================] - 1s 520us/step - loss: 0.0012 - val_loss: 0.0051\n",
            "Epoch 80/100\n",
            "2314/2314 [==============================] - 1s 500us/step - loss: 0.0012 - val_loss: 0.0086\n",
            "Epoch 81/100\n",
            "2314/2314 [==============================] - 1s 472us/step - loss: 0.0013 - val_loss: 0.0101\n",
            "Epoch 82/100\n",
            "2314/2314 [==============================] - 1s 484us/step - loss: 0.0012 - val_loss: 0.0203\n",
            "Epoch 83/100\n",
            "2314/2314 [==============================] - 1s 478us/step - loss: 0.0012 - val_loss: 0.0125\n",
            "Epoch 84/100\n",
            "2314/2314 [==============================] - 1s 493us/step - loss: 0.0012 - val_loss: 0.0089\n",
            "Epoch 85/100\n",
            "2314/2314 [==============================] - 1s 476us/step - loss: 0.0012 - val_loss: 0.0117\n",
            "Epoch 86/100\n",
            "2314/2314 [==============================] - 1s 474us/step - loss: 0.0011 - val_loss: 0.0077\n",
            "Epoch 87/100\n",
            "2314/2314 [==============================] - 1s 480us/step - loss: 0.0012 - val_loss: 0.0160\n",
            "Epoch 88/100\n",
            "2314/2314 [==============================] - 1s 469us/step - loss: 0.0011 - val_loss: 0.0084\n",
            "Epoch 89/100\n",
            "2314/2314 [==============================] - 1s 478us/step - loss: 0.0012 - val_loss: 0.0070\n",
            "Epoch 90/100\n",
            "2314/2314 [==============================] - 1s 472us/step - loss: 0.0012 - val_loss: 0.0086\n",
            "Epoch 91/100\n",
            "2314/2314 [==============================] - 1s 486us/step - loss: 0.0012 - val_loss: 0.0071\n",
            "Epoch 92/100\n",
            "2314/2314 [==============================] - 1s 473us/step - loss: 0.0012 - val_loss: 0.0116\n",
            "Epoch 93/100\n",
            "2314/2314 [==============================] - 1s 476us/step - loss: 0.0012 - val_loss: 0.0088\n",
            "Epoch 94/100\n",
            "2314/2314 [==============================] - 1s 485us/step - loss: 0.0011 - val_loss: 0.0073\n",
            "Epoch 95/100\n",
            "2314/2314 [==============================] - 1s 493us/step - loss: 0.0011 - val_loss: 0.0082\n",
            "Epoch 96/100\n",
            "2314/2314 [==============================] - 1s 475us/step - loss: 0.0012 - val_loss: 0.0120\n",
            "Epoch 97/100\n",
            "2314/2314 [==============================] - 1s 487us/step - loss: 0.0011 - val_loss: 0.0134\n",
            "Epoch 98/100\n",
            "2314/2314 [==============================] - 1s 484us/step - loss: 0.0012 - val_loss: 0.0096\n",
            "Epoch 99/100\n",
            "2314/2314 [==============================] - 1s 500us/step - loss: 0.0011 - val_loss: 0.0220\n",
            "Epoch 100/100\n",
            "2314/2314 [==============================] - 1s 473us/step - loss: 0.0011 - val_loss: 0.0098\n"
          ],
          "name": "stdout"
        },
        {
          "output_type": "execute_result",
          "data": {
            "text/plain": [
              "<keras.callbacks.callbacks.History at 0x7fe4b1090c88>"
            ]
          },
          "metadata": {
            "tags": []
          },
          "execution_count": 32
        }
      ]
    },
    {
      "cell_type": "code",
      "metadata": {
        "id": "kCDBod4W_RfW",
        "colab_type": "code",
        "colab": {
          "base_uri": "https://localhost:8080/",
          "height": 86
        },
        "outputId": "b74e5172-e274-47ca-eec8-4fdfd6cde41c"
      },
      "source": [
        "score_train = model.evaluate(X_train, y_train, batch_size =1)\n",
        "score_test = model.evaluate(X_test, y_test, batch_size =1)\n",
        "print(\"in train MSE = \", round( score_train ,4)) \n",
        "print(\"in test MSE = \", score_test )"
      ],
      "execution_count": 33,
      "outputs": [
        {
          "output_type": "stream",
          "text": [
            "2893/2893 [==============================] - 6s 2ms/step\n",
            "320/320 [==============================] - 1s 2ms/step\n",
            "in train MSE =  0.0025\n",
            "in test MSE =  0.03562009477464016\n"
          ],
          "name": "stdout"
        }
      ]
    },
    {
      "cell_type": "code",
      "metadata": {
        "id": "7V2Lbspy_WRq",
        "colab_type": "code",
        "colab": {
          "base_uri": "https://localhost:8080/",
          "height": 34
        },
        "outputId": "a8bbb57c-9f49-4871-ad27-c6fcca28a7a6"
      },
      "source": [
        "model_json = model.to_json()\n",
        "with open(\"model_rms100e_new.json\", \"w\") as json_file:\n",
        "    json_file.write(model_json)\n",
        "# serialize weights to HDF5\n",
        "model.save_weights(\"model_rms100e_new.h5\")\n",
        "print(\"Saved model to disk\")"
      ],
      "execution_count": 34,
      "outputs": [
        {
          "output_type": "stream",
          "text": [
            "Saved model to disk\n"
          ],
          "name": "stdout"
        }
      ]
    },
    {
      "cell_type": "code",
      "metadata": {
        "id": "jebTtJM4_XL3",
        "colab_type": "code",
        "colab": {
          "base_uri": "https://localhost:8080/",
          "height": 684
        },
        "outputId": "c8886cdb-4839-4fc7-d9f3-072f96ab13ca"
      },
      "source": [
        "pred = model.predict(X_test) \n",
        "pred = scaler_y.inverse_transform(np.array(pred).reshape((len(pred), 1)))\n",
        "\n",
        "prediction_data = pred[-1]     \n",
        "\n",
        "print (\"Inputs: {}\".format(model.input_shape))\n",
        "print (\"Outputs: {}\".format(model.output_shape))\n",
        "print (\"Actual input: {}\".format(X_test.shape))\n",
        "print (\"Actual output: {}\".format(y_test.shape))\n",
        "\n",
        "print (\"prediction data:\")\n",
        "print (prediction_data)\n",
        "\n",
        "print (\"actual data\")\n",
        "X_test = scaler_x.inverse_transform(np.array(X_test).reshape((len(X_test), len(cols))))\n",
        "print (X_test)\n",
        "\n",
        "#########################################################################\n",
        "'''Plotting'''\n",
        "plt.plot(pred, label=\"predictions\")\n",
        "\n",
        "y_test = scaler_y.inverse_transform(np.array(y_test).reshape((len( y_test), 1)))\n",
        "plt.plot([row[0] for row in y_test], label=\"actual\")\n",
        "\n",
        "plt.legend(loc='upper center', bbox_to_anchor=(0.5, -0.05), fancybox=True, shadow=True, ncol=2)\n",
        "\n",
        "ax = plt.axes()\n",
        "ax.yaxis.set_major_formatter(tick)\n",
        "plt.show()\n",
        "plt.clf()"
      ],
      "execution_count": 35,
      "outputs": [
        {
          "output_type": "stream",
          "text": [
            "Inputs: (None, 7, 1)\n",
            "Outputs: (None, 1)\n",
            "Actual input: (320, 7, 1)\n",
            "Actual output: (320, 1)\n",
            "prediction data:\n",
            "[10734.148]\n",
            "actual data\n",
            "[[1.153690e+04 9.990000e-01 9.996000e-01 ... 1.151415e+04 1.156225e+04\n",
            "  1.143605e+04]\n",
            " [1.158910e+04 9.996000e-01 9.960000e-01 ... 1.155825e+04 1.160300e+04\n",
            "  1.148440e+04]\n",
            " [1.143810e+04 9.960000e-01 9.987000e-01 ... 1.157025e+04 1.157300e+04\n",
            "  1.142730e+04]\n",
            " ...\n",
            " [1.212655e+04 9.991000e-01 9.997000e-01 ... 1.221185e+04 1.222155e+04\n",
            "  1.211885e+04]\n",
            " [1.224580e+04 9.997000e-01 9.976000e-01 ... 1.217290e+04 1.225845e+04\n",
            "  1.215790e+04]\n",
            " [1.225585e+04 9.976000e-01 9.997000e-01 ... 1.227490e+04 1.228645e+04\n",
            "  1.221380e+04]]\n"
          ],
          "name": "stdout"
        },
        {
          "output_type": "stream",
          "text": [
            "/usr/local/lib/python3.6/dist-packages/ipykernel_launcher.py:27: MatplotlibDeprecationWarning: Adding an axes using the same arguments as a previous axes currently reuses the earlier instance.  In a future version, a new instance will always be created and returned.  Meanwhile, this warning can be suppressed, and the future behavior ensured, by passing a unique label to each axes instance.\n"
          ],
          "name": "stderr"
        },
        {
          "output_type": "display_data",
          "data": {
            "image/png": "[encoded data removed]",
            "text/plain": [
              "<Figure size 432x288 with 1 Axes>"
            ]
          },
          "metadata": {
            "tags": [],
            "needs_background": "light"
          }
        },
        {
          "output_type": "display_data",
          "data": {
            "text/plain": [
              "<Figure size 432x288 with 0 Axes>"
            ]
          },
          "metadata": {
            "tags": []
          }
        }
      ]
    }
  ]
}